{
 "cells": [
  {
   "cell_type": "markdown",
   "id": "0e00644a",
   "metadata": {},
   "source": [
    "# Python\n",
    "\n",
    "- Interpreted language -- When a Python program is executed, the source code is first compiled into an intermediate code called bytecode. The bytecode is then interpreted by the Python interpreter and executed.\n",
    "\n",
    "- Object Oriented Language\n",
    "- Dynamically typed language -  no need to define the variable type\n",
    "- Ease of writing code\n",
    "- Scope of python"
   ]
  },
  {
   "cell_type": "code",
   "execution_count": 1,
   "id": "03061929",
   "metadata": {},
   "outputs": [
    {
     "name": "stdout",
     "output_type": "stream",
     "text": [
      "Hello World\n"
     ]
    }
   ],
   "source": [
    "#Day 1\n",
    "\n",
    "print('Hello World')"
   ]
  },
  {
   "cell_type": "code",
   "execution_count": 3,
   "id": "8c0c78d9",
   "metadata": {},
   "outputs": [
    {
     "name": "stdout",
     "output_type": "stream",
     "text": [
      "Enter a number23\n",
      "23\n"
     ]
    }
   ],
   "source": [
    "#Input from a query\n",
    "\n",
    "a = int(input('Enter a number'))\n",
    "print(a)"
   ]
  },
  {
   "cell_type": "markdown",
   "id": "8091faf4",
   "metadata": {},
   "source": [
    "#### Variables \n",
    "Names given to the memory locations in python\n",
    "Rules\n",
    "- Starts with lower case, upper case or underscore\n",
    "- Can't use the built in keywords as variables\n"
   ]
  },
  {
   "cell_type": "code",
   "execution_count": 7,
   "id": "823d1a99",
   "metadata": {},
   "outputs": [
    {
     "name": "stdout",
     "output_type": "stream",
     "text": [
      "30\n",
      "Han @ 23\n"
     ]
    }
   ],
   "source": [
    "a = 10\n",
    "b = 20\n",
    "print(a+b)\n",
    "print('Han @ '+ str(23))"
   ]
  },
  {
   "cell_type": "markdown",
   "id": "9d6d2d51",
   "metadata": {},
   "source": [
    "#### Data Types\n",
    "\n",
    "- Int\n",
    "- Float\n",
    "- String\n",
    "- Double\n",
    "\n",
    "Variables store the memory location they are referring to and not the content sio we can change a variable to string or int or float anytime"
   ]
  },
  {
   "cell_type": "code",
   "execution_count": 9,
   "id": "1f519836",
   "metadata": {},
   "outputs": [
    {
     "data": {
      "text/plain": [
       "str"
      ]
     },
     "execution_count": 9,
     "metadata": {},
     "output_type": "execute_result"
    }
   ],
   "source": [
    "a = 10\n",
    "b = 'han'\n",
    "\n",
    "type(b)"
   ]
  },
  {
   "cell_type": "markdown",
   "id": "12b54219",
   "metadata": {},
   "source": [
    "#### Arithmetic operations\n",
    "\n",
    "- Basic operations  - +, -, *, /\n",
    "- Unique - floor //, power **\n"
   ]
  },
  {
   "cell_type": "code",
   "execution_count": 14,
   "id": "55a3006d",
   "metadata": {},
   "outputs": [
    {
     "name": "stdout",
     "output_type": "stream",
     "text": [
      "400\n",
      "11\n"
     ]
    }
   ],
   "source": [
    "print(20**2)\n",
    "print(90//8)"
   ]
  },
  {
   "cell_type": "markdown",
   "id": "02bceda4",
   "metadata": {},
   "source": [
    "#### Python Numbers\n",
    "\n",
    "id() is a built-in function that returns the unique identity of an object. This identity is an integer that is guaranteed to be unique and constant for the lifetime of the object. The identity is typically the memory address of the object in CPython, the default Python interpreter."
   ]
  },
  {
   "cell_type": "code",
   "execution_count": 18,
   "id": "5b386f31",
   "metadata": {},
   "outputs": [
    {
     "name": "stdout",
     "output_type": "stream",
     "text": [
      "3017206164048\n",
      "3017206164048\n"
     ]
    }
   ],
   "source": [
    "a = 10\n",
    "print(id(a))\n",
    "b = a\n",
    "print(id(b))"
   ]
  },
  {
   "cell_type": "code",
   "execution_count": null,
   "id": "208374a2",
   "metadata": {},
   "outputs": [],
   "source": []
  }
 ],
 "metadata": {
  "kernelspec": {
   "display_name": "Python 3 (ipykernel)",
   "language": "python",
   "name": "python3"
  },
  "language_info": {
   "codemirror_mode": {
    "name": "ipython",
    "version": 3
   },
   "file_extension": ".py",
   "mimetype": "text/x-python",
   "name": "python",
   "nbconvert_exporter": "python",
   "pygments_lexer": "ipython3",
   "version": "3.9.12"
  }
 },
 "nbformat": 4,
 "nbformat_minor": 5
}
